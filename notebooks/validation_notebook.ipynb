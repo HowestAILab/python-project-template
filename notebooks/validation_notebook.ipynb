{
 "cells": [
  {
   "attachments": {},
   "cell_type": "markdown",
   "metadata": {},
   "source": [
    "# Python validation"
   ]
  },
  {
   "cell_type": "code",
   "execution_count": 1,
   "metadata": {},
   "outputs": [
    {
     "name": "stdout",
     "output_type": "stream",
     "text": [
      "Python 3.10.11\n"
     ]
    }
   ],
   "source": [
    "# Get python version\n",
    "!python --version"
   ]
  },
  {
   "cell_type": "code",
   "execution_count": 2,
   "metadata": {},
   "outputs": [
    {
     "name": "stdout",
     "output_type": "stream",
     "text": [
      "\n",
      "\u001b[39;1mVirtualenv\u001b[39;22m\n",
      "\u001b[34mPython\u001b[39m:         \u001b[32m3.10.11\u001b[39m\n",
      "\u001b[34mImplementation\u001b[39m: \u001b[32mCPython\u001b[39m\n",
      "\u001b[34mPath\u001b[39m:           \u001b[32m/workspaces/template-python-project/.venv\u001b[39m\n",
      "\u001b[34mExecutable\u001b[39m:     \u001b[32m/workspaces/template-python-project/.venv/bin/python\u001b[39m\n",
      "\u001b[34mValid\u001b[39m:          \u001b[32mTrue\u001b[39m\n",
      "\n",
      "\u001b[39;1mSystem\u001b[39;22m\n",
      "\u001b[34mPlatform\u001b[39m:   \u001b[32mlinux\u001b[39m\n",
      "\u001b[34mOS\u001b[39m:         \u001b[32mposix\u001b[39m\n",
      "\u001b[34mPython\u001b[39m:     \u001b[32m3.10.11\u001b[39m\n",
      "\u001b[34mPath\u001b[39m:       \u001b[32m/usr/local\u001b[39m\n",
      "\u001b[34mExecutable\u001b[39m: \u001b[32m/usr/local/bin/python3.10\u001b[39m\n"
     ]
    }
   ],
   "source": [
    "# check if in poetry environment\n",
    "!poetry env info"
   ]
  },
  {
   "attachments": {},
   "cell_type": "markdown",
   "metadata": {},
   "source": [
    "# GPU validation"
   ]
  },
  {
   "cell_type": "code",
   "execution_count": 1,
   "metadata": {},
   "outputs": [
    {
     "ename": "ModuleNotFoundError",
     "evalue": "No module named 'tensorflow'",
     "output_type": "error",
     "traceback": [
      "\u001b[0;31m---------------------------------------------------------------------------\u001b[0m",
      "\u001b[0;31mModuleNotFoundError\u001b[0m                       Traceback (most recent call last)",
      "Cell \u001b[0;32mIn[1], line 1\u001b[0m\n\u001b[0;32m----> 1\u001b[0m \u001b[39mimport\u001b[39;00m \u001b[39mtensorflow\u001b[39;00m \u001b[39mas\u001b[39;00m \u001b[39mtf\u001b[39;00m\n\u001b[1;32m      3\u001b[0m gpus \u001b[39m=\u001b[39m tf\u001b[39m.\u001b[39mconfig\u001b[39m.\u001b[39mlist_physical_devices(\u001b[39m'\u001b[39m\u001b[39mGPU\u001b[39m\u001b[39m'\u001b[39m)\n\u001b[1;32m      4\u001b[0m \u001b[39mfor\u001b[39;00m gpu \u001b[39min\u001b[39;00m gpus:\n",
      "\u001b[0;31mModuleNotFoundError\u001b[0m: No module named 'tensorflow'"
     ]
    }
   ],
   "source": [
    "import tensorflow as tf\n",
    "\n",
    "gpus = tf.config.list_physical_devices(\"GPU\")\n",
    "for gpu in gpus:\n",
    "    print(\"Name:\", gpu.name, \"  Type:\", gpu.device_type)"
   ]
  },
  {
   "cell_type": "code",
   "execution_count": 2,
   "metadata": {},
   "outputs": [
    {
     "name": "stdout",
     "output_type": "stream",
     "text": [
      "zsh:1: command not found: nvidia-smi\n"
     ]
    }
   ],
   "source": [
    "!nvidia-smi"
   ]
  },
  {
   "cell_type": "code",
   "execution_count": 4,
   "metadata": {},
   "outputs": [
    {
     "name": "stdout",
     "output_type": "stream",
     "text": [
      "cudnn:\n",
      "^C\n"
     ]
    }
   ],
   "source": [
    "# cudnn validation\n",
    "!whereis cudnn.h\n",
    "!CUDNN_H_PATH=$(whereis cudnn.h)\n",
    "!cat ${CUDNN_H_PATH} | grep CUDNN_MAJOR -A 2"
   ]
  },
  {
   "cell_type": "code",
   "execution_count": null,
   "metadata": {},
   "outputs": [],
   "source": []
  }
 ],
 "metadata": {
  "kernelspec": {
   "display_name": ".venv",
   "language": "python",
   "name": "python3"
  },
  "language_info": {
   "codemirror_mode": {
    "name": "ipython",
    "version": 3
   },
   "file_extension": ".py",
   "mimetype": "text/x-python",
   "name": "python",
   "nbconvert_exporter": "python",
   "pygments_lexer": "ipython3",
   "version": "3.10.11"
  },
  "orig_nbformat": 4
 },
 "nbformat": 4,
 "nbformat_minor": 2
}
